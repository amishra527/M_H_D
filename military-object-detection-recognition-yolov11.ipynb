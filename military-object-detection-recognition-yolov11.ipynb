{
 "cells": [
  {
   "cell_type": "markdown",
   "id": "871d3ff7",
   "metadata": {
    "_cell_guid": "b1076dfc-b9ad-4769-8c92-a6c4dae69d19",
    "_uuid": "8f2839f25d086af736a60e9eeb907d3b93b6e0e5",
    "papermill": {
     "duration": 0.003947,
     "end_time": "2025-01-09T01:49:01.599540",
     "exception": false,
     "start_time": "2025-01-09T01:49:01.595593",
     "status": "completed"
    },
    "tags": []
   },
   "source": [
    "<div style='background-color: #fff7f7; border: 3px solid Red;'>\n",
    "    <font size=\"+1\" color=\"Red\">\n",
    "        <b>Please look at our work!</b>\n",
    "    </font>\n",
    "</div>\n",
    "\n",
    "<!-- </div>\n",
    "<div style='background-color: #fff7f7; border: 3px solid yellow;'>\n",
    "    <font size=\"+1\" color=\"Red\">\n",
    "        <b><span style='color: green;'>Let's Support Each Other!!</span></b>\n",
    "    </font>\n",
    "</div> -->\n"
   ]
  },
  {
   "cell_type": "markdown",
   "id": "95cc9e44",
   "metadata": {
    "papermill": {
     "duration": 0.002925,
     "end_time": "2025-01-09T01:49:01.605853",
     "exception": false,
     "start_time": "2025-01-09T01:49:01.602928",
     "status": "completed"
    },
    "tags": []
   },
   "source": [
    "<div style='background-color: #fff7f7; border: 2px solid '>\n",
    "    <font size=\"+2\" color=\"blue\" ><b>🗂️1. Install libraries and Download a pre-trained checkpoint 🗂️</b></font>\n",
    "</div>\n"
   ]
  },
  {
   "cell_type": "code",
   "execution_count": null,
   "id": "ac9cd1ef",
   "metadata": {},
   "outputs": [],
   "source": [
    "# !pip install ultralytics"
   ]
  },
  {
   "cell_type": "code",
   "execution_count": null,
   "id": "301e9819",
   "metadata": {},
   "outputs": [],
   "source": [
    "# !kaggle datasets download sudipchakrabarty/kiit-mita"
   ]
  },
  {
   "cell_type": "code",
   "execution_count": 1,
   "id": "9230d05d",
   "metadata": {},
   "outputs": [],
   "source": [
    "# !unzip kiit-mita.zip"
   ]
  },
  {
   "cell_type": "code",
   "execution_count": null,
   "id": "eebea937",
   "metadata": {},
   "outputs": [],
   "source": [
    "# import wandb\n",
    "# !wandb.login(key=\"691f7f627317cf78520e137b1d29e92c725938aa\") "
   ]
  },
  {
   "cell_type": "code",
   "execution_count": 1,
   "id": "7bbb82b9",
   "metadata": {},
   "outputs": [],
   "source": [
    "import os, cv2, yaml, random, numpy as np\n",
    "from PIL import Image\n",
    "from glob import glob\n",
    "from matplotlib import pyplot as plt\n",
    "from torchvision import transforms as T"
   ]
  },
  {
   "cell_type": "code",
   "execution_count": 2,
   "id": "4116263b",
   "metadata": {
    "execution": {
     "iopub.execute_input": "2025-01-09T01:49:01.612974Z",
     "iopub.status.busy": "2025-01-09T01:49:01.612673Z",
     "iopub.status.idle": "2025-01-09T01:49:13.159049Z",
     "shell.execute_reply": "2025-01-09T01:49:13.158091Z"
    },
    "papermill": {
     "duration": 11.551387,
     "end_time": "2025-01-09T01:49:13.160316",
     "exception": false,
     "start_time": "2025-01-09T01:49:01.608929",
     "status": "completed"
    },
    "tags": []
   },
   "outputs": [],
   "source": [
    "from ultralytics import YOLO\n",
    "\n",
    "model = YOLO(\"yolo11n.pt\")"
   ]
  },
  {
   "cell_type": "markdown",
   "id": "5c5a8d51",
   "metadata": {
    "papermill": {
     "duration": 0.00368,
     "end_time": "2025-01-09T01:49:13.168253",
     "exception": false,
     "start_time": "2025-01-09T01:49:13.164573",
     "status": "completed"
    },
    "tags": []
   },
   "source": [
    " <div style='background-color: #fff7f7; border: 2px solid '>\n",
    "    <font size=\"+2\" color=\"blue\" ><b>📈 2. Data Analysis 📈</b></font>\n",
    "</div>\n"
   ]
  },
  {
   "cell_type": "code",
   "execution_count": null,
   "id": "005f0255",
   "metadata": {},
   "outputs": [],
   "source": [
    "def debug_directory(root):\n",
    "    print(f\"1. Checking if root exists: {os.path.exists(root)}\")\n",
    "\n",
    "    # Check YAML file\n",
    "    yaml_path = os.path.join(root, \"KIIT-MiTA.yml\")\n",
    "    print(f\"\\n2. Checking YAML file:\")\n",
    "    print(f\"YAML path exists: {os.path.exists(yaml_path)}\")\n",
    "    if os.path.exists(yaml_path):\n",
    "        with open(yaml_path, \"r\") as file:\n",
    "            data = yaml.safe_load(file)\n",
    "            print(f\"YAML contents (names): {data.get('names', 'No names found')}\")\n",
    "\n",
    "    # Check directories and files\n",
    "    for data_type in [\"train\", \"valid\", \"test\"]:\n",
    "        print(f\"\\n3. Checking {data_type} directory:\")\n",
    "\n",
    "        # Check images directory\n",
    "        image_dir = os.path.join(root, data_type, \"images\")\n",
    "        print(f\"{data_type}/images exists: {os.path.exists(image_dir)}\")\n",
    "        if os.path.exists(image_dir):\n",
    "            images = glob(os.path.join(image_dir, \"*\"))\n",
    "            print(f\"Number of images found: {len(images)}\")\n",
    "            if images:\n",
    "                print(f\"First image path: {images[0]}\")\n",
    "\n",
    "        # Check labels directory\n",
    "        label_dir = os.path.join(root, data_type, \"labels\")\n",
    "        print(f\"{data_type}/labels exists: {os.path.exists(label_dir)}\")\n",
    "        if os.path.exists(label_dir):\n",
    "            labels = glob(os.path.join(label_dir, \"*.txt\"))\n",
    "            print(f\"Number of labels found: {len(labels)}\")\n",
    "            if labels:\n",
    "                print(f\"First label path: {labels[0]}\")\n",
    "                # Try to read first label file\n",
    "                try:\n",
    "                    with open(labels[0], \"r\") as f:\n",
    "                        first_line = f.readline().strip()\n",
    "                        print(f\"First line of first label: {first_line}\")\n",
    "                except Exception as e:\n",
    "                    print(f\"Error reading label file: {e}\")\n",
    "\n",
    "\n",
    "# Run debug function\n",
    "root = r\"KIIT-MiTA\"  # or use \"archive/KIIT-MiTA\"\n",
    "debug_directory(root)"
   ]
  },
  {
   "cell_type": "code",
   "execution_count": null,
   "id": "ec4d1ee2",
   "metadata": {},
   "outputs": [],
   "source": [
    "class Visualization:\n",
    "    def __init__(self, root, data_types, n_ims, rows, cmap=None):\n",
    "        self.n_ims = n_ims\n",
    "        self.rows = rows\n",
    "        self.cmap = cmap\n",
    "        self.data_types = data_types\n",
    "        self.colors = [\"firebrick\", \"darkorange\", \"blueviolet\"]\n",
    "\n",
    "        # Convert backslashes to forward slashes for consistency\n",
    "        self.root = os.path.normpath(root)\n",
    "        print(f\"Initialized with root path: {self.root}\")\n",
    "        self.get_cls_names()\n",
    "        self.get_bboxes()\n",
    "\n",
    "    def get_cls_names(self):\n",
    "        yaml_path = os.path.join(self.root, \"KIIT-MiTA.yml\")\n",
    "        print(f\"Reading YAML from: {yaml_path}\")\n",
    "\n",
    "        with open(yaml_path, \"r\") as file:\n",
    "            data = yaml.safe_load(file)\n",
    "\n",
    "        # Extract class names\n",
    "        self.class_dict = {index: name for index, name in enumerate(data[\"names\"])}\n",
    "        print(f\"Loaded class dictionary: {self.class_dict}\")\n",
    "\n",
    "    def get_bboxes(self):\n",
    "        self.vis_datas = {}\n",
    "        self.analysis_datas = {}\n",
    "        self.im_paths = {}\n",
    "\n",
    "        for data_type in self.data_types:\n",
    "            print(f\"\\nProcessing {data_type} dataset\")\n",
    "            all_bboxes = []\n",
    "            all_analysis_datas = {}\n",
    "\n",
    "            image_dir = os.path.join(self.root, data_type, \"images\")\n",
    "            print(f\"Looking for images in: {image_dir}\")\n",
    "\n",
    "            im_paths = glob(os.path.join(image_dir, \"*\"))\n",
    "            print(f\"Found {len(im_paths)} images\")\n",
    "\n",
    "            for idx, im_path in enumerate(im_paths):\n",
    "                # Get corresponding label path\n",
    "                base_name = os.path.basename(im_path)\n",
    "                name_without_ext = os.path.splitext(base_name)[0]\n",
    "                lbl_path = os.path.join(\n",
    "                    self.root, data_type, \"labels\", f\"{name_without_ext}.txt\"\n",
    "                )\n",
    "\n",
    "                if not os.path.isfile(lbl_path):\n",
    "                    print(f\"Warning: No label file for {im_path}\")\n",
    "                    continue\n",
    "\n",
    "                bboxes = []\n",
    "                with open(lbl_path, \"r\") as f:\n",
    "                    for line in f:\n",
    "                        parts = line.strip().split()\n",
    "                        if len(parts) >= 5:  # Ensure we have class + 4 bbox coordinates\n",
    "                            try:\n",
    "                                class_idx = int(parts[0])\n",
    "                                cls_name = self.class_dict[class_idx]\n",
    "                                bbox = [cls_name] + [float(x) for x in parts[1:5]]\n",
    "                                bboxes.append(bbox)\n",
    "\n",
    "                                # Update analysis data\n",
    "                                if cls_name not in all_analysis_datas:\n",
    "                                    all_analysis_datas[cls_name] = 1\n",
    "                                else:\n",
    "                                    all_analysis_datas[cls_name] += 1\n",
    "\n",
    "                            except (ValueError, IndexError, KeyError) as e:\n",
    "                                print(f\"Error processing line in {lbl_path}: {e}\")\n",
    "                                continue\n",
    "\n",
    "                all_bboxes.append(bboxes)\n",
    "\n",
    "            print(f\"Processed {len(all_bboxes)} valid image-label pairs\")\n",
    "            print(f\"Class distribution: {all_analysis_datas}\")\n",
    "\n",
    "            self.vis_datas[data_type] = all_bboxes\n",
    "            self.analysis_datas[data_type] = all_analysis_datas\n",
    "            self.im_paths[data_type] = im_paths\n",
    "\n",
    "    def plot(self, rows, cols, count, im_path, bboxes):\n",
    "        plt.subplot(rows, cols, count)\n",
    "\n",
    "        try:\n",
    "            or_im = np.array(Image.open(im_path).convert(\"RGB\"))\n",
    "            height, width, _ = or_im.shape\n",
    "\n",
    "            for bbox in bboxes:\n",
    "                class_id, x_center, y_center, w, h = bbox\n",
    "\n",
    "                # Convert YOLO format to pixel values\n",
    "                x_min = int((x_center - w / 2) * width)\n",
    "                y_min = int((y_center - h / 2) * height)\n",
    "                x_max = int((x_center + w / 2) * width)\n",
    "                y_max = int((y_center + h / 2) * height)\n",
    "\n",
    "                color = (\n",
    "                    random.randint(0, 255),\n",
    "                    random.randint(0, 255),\n",
    "                    random.randint(0, 255),\n",
    "                )\n",
    "                cv2.rectangle(\n",
    "                    img=or_im,\n",
    "                    pt1=(x_min, y_min),\n",
    "                    pt2=(x_max, y_max),\n",
    "                    color=color,\n",
    "                    thickness=3,\n",
    "                )\n",
    "\n",
    "            plt.imshow(or_im)\n",
    "            plt.axis(\"off\")\n",
    "            plt.title(f\"There is (are) {len(bboxes)} object(s) in the image.\")\n",
    "\n",
    "        except Exception as e:\n",
    "            print(f\"Error plotting image {im_path}: {e}\")\n",
    "\n",
    "        return count + 1\n",
    "\n",
    "    def vis(self, save_name):\n",
    "        print(f\"\\n{save_name.upper()} Data Visualization is in process...\")\n",
    "\n",
    "        if not self.vis_datas.get(save_name):\n",
    "            print(f\"No data found for {save_name}\")\n",
    "            return\n",
    "\n",
    "        cols = max(1, self.n_ims // self.rows)\n",
    "        count = 1\n",
    "\n",
    "        plt.figure(figsize=(25, 20))\n",
    "\n",
    "        data_len = len(self.vis_datas[save_name])\n",
    "        indices = [\n",
    "            random.randint(0, data_len - 1) for _ in range(min(self.n_ims, data_len))\n",
    "        ]\n",
    "\n",
    "        for idx, index in enumerate(indices):\n",
    "            if count == self.n_ims + 1:\n",
    "                break\n",
    "\n",
    "            im_path = self.im_paths[save_name][index]\n",
    "            bboxes = self.vis_datas[save_name][index]\n",
    "\n",
    "            count = self.plot(self.rows, cols, count, im_path=im_path, bboxes=bboxes)\n",
    "\n",
    "        plt.tight_layout()\n",
    "        plt.show()\n",
    "\n",
    "    def data_analysis(self, save_name, color):\n",
    "        print(f\"\\nData analysis for {save_name}...\")\n",
    "\n",
    "        if not self.analysis_datas.get(save_name):\n",
    "            print(f\"No analysis data for {save_name}\")\n",
    "            return\n",
    "\n",
    "        cls_names = list(self.analysis_datas[save_name].keys())\n",
    "        counts = list(self.analysis_datas[save_name].values())\n",
    "\n",
    "        if not cls_names or not counts:\n",
    "            print(f\"No classes or counts found for {save_name}\")\n",
    "            return\n",
    "\n",
    "        fig, ax = plt.subplots(figsize=(30, 10))\n",
    "        width = 0.7\n",
    "        indices = np.arange(len(counts))\n",
    "\n",
    "        ax.bar(indices, counts, width, color=color)\n",
    "        ax.set_xlabel(\"Class Names\", color=\"black\", fontsize=12)\n",
    "        ax.set_ylabel(\"Data Counts\", color=\"black\", fontsize=12)\n",
    "        ax.set_title(\n",
    "            f\"{save_name.upper()} Dataset Class Imbalance Analysis\", fontsize=14\n",
    "        )\n",
    "\n",
    "        ax.set_xticks(indices)\n",
    "        ax.set_xticklabels(cls_names, rotation=45, ha=\"right\")\n",
    "\n",
    "        # Add value labels on top of bars\n",
    "        for i, v in enumerate(counts):\n",
    "            ax.text(i, v + max(counts) * 0.01, str(v), ha=\"center\", va=\"bottom\")\n",
    "\n",
    "        plt.tight_layout()\n",
    "        plt.show()\n",
    "\n",
    "    def visualization(self):\n",
    "        for save_name in self.data_types:\n",
    "            self.vis(save_name)\n",
    "\n",
    "    def analysis(self):\n",
    "        for save_name, color in zip(self.data_types, self.colors):\n",
    "            self.data_analysis(save_name, color)\n",
    "\n",
    "\n",
    "# Usage\n",
    "root = \"KIIT-MiTA\"  # Use forward slashes\n",
    "vis = Visualization(\n",
    "    root=root, data_types=[\"train\", \"valid\", \"test\"], n_ims=20, rows=5, cmap=\"rgb\"\n",
    ")\n",
    "vis.analysis()"
   ]
  },
  {
   "cell_type": "markdown",
   "id": "170927d6",
   "metadata": {
    "papermill": {
     "duration": 0.005994,
     "end_time": "2025-01-09T01:49:20.980758",
     "exception": false,
     "start_time": "2025-01-09T01:49:20.974764",
     "status": "completed"
    },
    "tags": []
   },
   "source": [
    "<div style='background-color: #fff7f7; border: 2px solid '>\n",
    "    <font size=\"+2\" color=\"blue\" ><b>📊 3. Data Visualization 📊</b></font>\n",
    "</div>\n"
   ]
  },
  {
   "cell_type": "code",
   "execution_count": null,
   "id": "7d66adc5",
   "metadata": {
    "execution": {
     "iopub.execute_input": "2025-01-09T01:49:20.993913Z",
     "iopub.status.busy": "2025-01-09T01:49:20.993577Z",
     "iopub.status.idle": "2025-01-09T01:49:30.109296Z",
     "shell.execute_reply": "2025-01-09T01:49:30.108191Z"
    },
    "papermill": {
     "duration": 9.168346,
     "end_time": "2025-01-09T01:49:30.155048",
     "exception": false,
     "start_time": "2025-01-09T01:49:20.986702",
     "status": "completed"
    },
    "tags": []
   },
   "outputs": [],
   "source": [
    "vis.visualization()"
   ]
  },
  {
   "cell_type": "markdown",
   "id": "fa2817f7",
   "metadata": {
    "papermill": {
     "duration": 0.203522,
     "end_time": "2025-01-09T01:49:30.569315",
     "exception": false,
     "start_time": "2025-01-09T01:49:30.365793",
     "status": "completed"
    },
    "tags": []
   },
   "source": [
    "<div style='background-color: #fff7f7; border: 2px solid '>\n",
    "    <font size=\"+2\" color=\"blue\" ><b>✨ 4. AI Model Train✨</b></font>\n",
    "</div>\n"
   ]
  },
  {
   "cell_type": "code",
   "execution_count": null,
   "id": "4a8d116e",
   "metadata": {},
   "outputs": [],
   "source": [
    "import torch\n",
    "print(f\"CUDA available: {torch.cuda.is_available()}\")\n",
    "print(f\"CUDA version: {torch.version.cuda}\")"
   ]
  },
  {
   "cell_type": "code",
   "execution_count": null,
   "id": "1c0420d7",
   "metadata": {},
   "outputs": [],
   "source": [
    "import yaml\n",
    "import wandb\n",
    "import mlflow\n",
    "from mlflow import log_params, log_metric\n",
    "from datetime import datetime\n",
    "from ultralytics import YOLO  # Ensure you're importing the YOLO model\n",
    "\n",
    "# Define root directory (update as per your file structure)\n",
    "root = \"/home/nic/workspace/Mlops/MHD/KIIT-MiTA\"\n",
    "\n",
    "# Load YAML content into a Python dictionary\n",
    "yml_file_path = f\"{root}/KIIT-MiTA.yml\"\n",
    "\n",
    "with open(yml_file_path, \"r\") as file:\n",
    "    data = yaml.safe_load(file)\n",
    "\n",
    "# Update the paths\n",
    "data[\"train\"] = f\"{root}/train/images\"\n",
    "data[\"val\"] = f\"{root}/valid/images\"\n",
    "data[\"test\"] = f\"{root}/test/images\"\n",
    "\n",
    "print(\"Updated YAML Config:\", data)\n",
    "\n",
    "# Save the updated YAML content to a file\n",
    "output_path = \"updated_config.yml\"\n",
    "with open(output_path, \"w\") as file:\n",
    "    yaml.dump(data, file, default_flow_style=False)\n",
    "\n",
    "# Initialize W&B project\n",
    "wandb.init(project=\"yolo-training\", config={\n",
    "    \"epochs\": 30,\n",
    "    \"imgsz\": 480,\n",
    "    \"batch\": 16,\n",
    "    \"workers\": 8\n",
    "})\n",
    "\n",
    "# Start MLflow experiment\n",
    "mlflow.set_tracking_uri(\"http://192.168.29.161:8087\")  # Your MLflow tracking URI\n",
    "experiment_name = \"YOLO Training\"\n",
    "mlflow.set_experiment(experiment_name)\n",
    "\n",
    "# Initialize the YOLO model\n",
    "model = YOLO(\"yolov11n.pt\")  # Replace with the correct YOLO version and weights\n",
    "\n",
    "with mlflow.start_run(run_name=f\"YOLO_Run_{datetime.now().strftime('%Y%m%d_%H%M%S')}\"):\n",
    "    # Log parameters to MLflow\n",
    "    mlflow.log_param(\"epochs\", 30)\n",
    "    mlflow.log_param(\"imgsz\", 480)\n",
    "    mlflow.log_param(\"batch\", 16)\n",
    "    mlflow.log_param(\"workers\", 8)\n",
    "    mlflow.log_param(\"data\", \"updated_config.yml\")\n",
    "\n",
    "    # Start training\n",
    "    train_results = model.train(\n",
    "        data=\"updated_config.yml\",\n",
    "        epochs=30,\n",
    "        imgsz=480,\n",
    "        device=[0],\n",
    "        batch=16,\n",
    "        workers=8,\n",
    "    )\n",
    "\n",
    "    # Log metrics to W&B and MLflow\n",
    "    # Using the correct attribute from the train_results\n",
    "    metrics = train_results.box.map  # Access the mAP metric\n",
    "    print(\"Training metrics:\", metrics)\n",
    "\n",
    "    if isinstance(metrics, dict):\n",
    "        for key, value in metrics.items():\n",
    "            if isinstance(value, (int, float)):\n",
    "                wandb.log({key: value})\n",
    "                mlflow.log_metric(key, value)\n",
    "\n",
    "    # Save the model artifacts\n",
    "    mlflow.log_artifacts(\"runs\")  # Assuming 'runs' is the directory where YOLO saves results\n",
    "\n",
    "# Finish W&B run\n",
    "wandb.finish()"
   ]
  },
  {
   "cell_type": "code",
   "execution_count": null,
   "id": "5d646250",
   "metadata": {},
   "outputs": [],
   "source": [
    "import yaml\n",
    "import wandb\n",
    "import mlflow\n",
    "from mlflow import log_params, log_metric\n",
    "from datetime import datetime\n",
    "from ultralytics import YOLO  # Ensure you're importing the YOLO model\n",
    "import optuna  # For hyperparameter optimization\n",
    "\n",
    "# Define root directory (update as per your file structure)\n",
    "root = \"/home/nic/workspace/Mlops/MHD_1/KIIT-MiTA\"\n",
    "\n",
    "# Load YAML content into a Python dictionary\n",
    "yml_file_path = f\"{root}/KIIT-MiTA.yml\"\n",
    "\n",
    "with open(yml_file_path, \"r\") as file:\n",
    "    data = yaml.safe_load(file)\n",
    "\n",
    "# Update the paths\n",
    "data[\"train\"] = f\"{root}/train/images\"\n",
    "data[\"val\"] = f\"{root}/valid/images\"\n",
    "data[\"test\"] = f\"{root}/test/images\"\n",
    "\n",
    "# Save the updated YAML content to a file\n",
    "output_path = \"updated_config.yml\"\n",
    "with open(output_path, \"w\") as file:\n",
    "    yaml.dump(data, file, default_flow_style=False)\n",
    "\n",
    "# Initialize W&B project\n",
    "wandb.init(project=\"yolo-hyperparameter-tuning\")\n",
    "\n",
    "# MLflow tracking setup\n",
    "mlflow.set_tracking_uri(\"http://192.168.29.161:8087\")  # Your MLflow tracking URI\n",
    "experiment_name = \"YOLO Hyperparameter Tuning\"\n",
    "mlflow.set_experiment(experiment_name)\n",
    "\n",
    "\n",
    "# Objective function for Optuna\n",
    "def objective(trial):\n",
    "    # Suggest hyperparameters\n",
    "    epochs = trial.suggest_int(\"epochs\", 10, 50, step=10)\n",
    "    imgsz = trial.suggest_categorical(\"imgsz\", [320, 480, 640])\n",
    "    batch = trial.suggest_int(\"batch\", 8, 32, step=8)\n",
    "    learning_rate = trial.suggest_loguniform(\"lr0\", 1e-4, 1e-2)\n",
    "    workers = trial.suggest_int(\"workers\", 4, 16, step=4)\n",
    "\n",
    "    # Initialize the YOLO model\n",
    "    model = YOLO(\"yolo11n.pt\")  # Replace with the correct YOLO version and weights\n",
    "\n",
    "    with mlflow.start_run(run_name=f\"YOLO_Run_{datetime.now().strftime('%Y%m%d_%H%M%S')}\"):\n",
    "        # Log parameters to MLflow\n",
    "        mlflow.log_param(\"epochs\", epochs)\n",
    "        mlflow.log_param(\"imgsz\", imgsz)\n",
    "        mlflow.log_param(\"batch\", batch)\n",
    "        mlflow.log_param(\"learning_rate\", learning_rate)\n",
    "        mlflow.log_param(\"workers\", workers)\n",
    "        mlflow.log_param(\"data\", \"updated_config.yml\")\n",
    "\n",
    "        # Start training\n",
    "        train_results = model.train(\n",
    "            data=\"updated_config.yml\",\n",
    "            epochs=epochs,\n",
    "            imgsz=imgsz,\n",
    "            batch=batch,\n",
    "            workers=workers,\n",
    "            device=[0],\n",
    "            lr0=learning_rate\n",
    "        )\n",
    "\n",
    "        # Extract and log the evaluation metric (e.g., mAP)\n",
    "        metrics = train_results.box.map  # Adjust based on YOLO's output\n",
    "        print(f\"Trial metrics: {metrics}\")\n",
    "\n",
    "        # Log metrics to MLflow\n",
    "        if isinstance(metrics, dict):\n",
    "            for key, value in metrics.items():\n",
    "                if isinstance(value, (int, float)):\n",
    "                    mlflow.log_metric(key, value)\n",
    "\n",
    "        # Log W&B metrics\n",
    "        wandb.log({\"mAP\": metrics})\n",
    "\n",
    "    # Return the primary metric for optimization\n",
    "    return metrics  # Adjust based on your metric of interest\n",
    "\n",
    "\n",
    "# Run Optuna study\n",
    "study = optuna.create_study(direction=\"maximize\")  # Maximize mAP\n",
    "study.optimize(objective, n_trials=20)\n",
    "\n",
    "# Best trial results\n",
    "best_trial = study.best_trial\n",
    "print(\"Best trial:\")\n",
    "print(f\"  Value: {best_trial.value}\")\n",
    "print(f\"  Params: {best_trial.params}\")\n",
    "\n",
    "# Save study results\n",
    "with open(\"optuna_study_results.yml\", \"w\") as file:\n",
    "    yaml.dump(study.best_params, file)\n",
    "\n",
    "# Finish W&B run\n",
    "wandb.finish()\n"
   ]
  },
  {
   "cell_type": "markdown",
   "id": "29f03924",
   "metadata": {
    "papermill": {
     "duration": 0.20062,
     "end_time": "2025-01-09T01:52:48.445075",
     "exception": false,
     "start_time": "2025-01-09T01:52:48.244455",
     "status": "completed"
    },
    "tags": []
   },
   "source": [
    "<div style='background-color: #fff7f7; border: 2px solid '>\n",
    "    <font size=\"+2\" color=\"blue\" ><b>😍 5. Learning Curves 😍</b></font>\n",
    "</div>\n"
   ]
  },
  {
   "cell_type": "code",
   "execution_count": null,
   "id": "d48963d8",
   "metadata": {
    "execution": {
     "iopub.execute_input": "2025-01-09T01:52:48.849259Z",
     "iopub.status.busy": "2025-01-09T01:52:48.848628Z",
     "iopub.status.idle": "2025-01-09T01:52:49.222042Z",
     "shell.execute_reply": "2025-01-09T01:52:49.221095Z"
    },
    "papermill": {
     "duration": 0.582985,
     "end_time": "2025-01-09T01:52:49.226741",
     "exception": false,
     "start_time": "2025-01-09T01:52:48.643756",
     "status": "completed"
    },
    "tags": []
   },
   "outputs": [],
   "source": [
    "Image.open(f\"runs/detect/train/confusion_matrix.png\")"
   ]
  },
  {
   "cell_type": "code",
   "execution_count": null,
   "id": "fea36737",
   "metadata": {
    "execution": {
     "iopub.execute_input": "2025-01-09T01:52:49.640689Z",
     "iopub.status.busy": "2025-01-09T01:52:49.640364Z",
     "iopub.status.idle": "2025-01-09T01:52:49.817466Z",
     "shell.execute_reply": "2025-01-09T01:52:49.816661Z"
    },
    "papermill": {
     "duration": 0.388824,
     "end_time": "2025-01-09T01:52:49.823014",
     "exception": false,
     "start_time": "2025-01-09T01:52:49.434190",
     "status": "completed"
    },
    "tags": []
   },
   "outputs": [],
   "source": [
    "Image.open(f\"runs/detect/train/results.png\")"
   ]
  },
  {
   "cell_type": "code",
   "execution_count": null,
   "id": "4ec656c9",
   "metadata": {
    "execution": {
     "iopub.execute_input": "2025-01-09T01:52:50.251036Z",
     "iopub.status.busy": "2025-01-09T01:52:50.250744Z",
     "iopub.status.idle": "2025-01-09T01:52:50.474817Z",
     "shell.execute_reply": "2025-01-09T01:52:50.474001Z"
    },
    "papermill": {
     "duration": 0.444345,
     "end_time": "2025-01-09T01:52:50.480939",
     "exception": false,
     "start_time": "2025-01-09T01:52:50.036594",
     "status": "completed"
    },
    "tags": []
   },
   "outputs": [],
   "source": [
    "Image.open(f\"runs/detect/train/P_curve.png\")"
   ]
  },
  {
   "cell_type": "code",
   "execution_count": null,
   "id": "375a8588",
   "metadata": {
    "execution": {
     "iopub.execute_input": "2025-01-09T01:52:50.924467Z",
     "iopub.status.busy": "2025-01-09T01:52:50.923986Z",
     "iopub.status.idle": "2025-01-09T01:52:51.136807Z",
     "shell.execute_reply": "2025-01-09T01:52:51.135951Z"
    },
    "papermill": {
     "duration": 0.438474,
     "end_time": "2025-01-09T01:52:51.140686",
     "exception": false,
     "start_time": "2025-01-09T01:52:50.702212",
     "status": "completed"
    },
    "tags": []
   },
   "outputs": [],
   "source": [
    "Image.open(f\"runs/detect/train/PR_curve.png\")"
   ]
  },
  {
   "cell_type": "code",
   "execution_count": null,
   "id": "8bf67e9d",
   "metadata": {
    "execution": {
     "iopub.execute_input": "2025-01-09T01:52:51.598150Z",
     "iopub.status.busy": "2025-01-09T01:52:51.597657Z",
     "iopub.status.idle": "2025-01-09T01:52:51.906817Z",
     "shell.execute_reply": "2025-01-09T01:52:51.905608Z"
    },
    "papermill": {
     "duration": 0.581953,
     "end_time": "2025-01-09T01:52:51.950972",
     "exception": false,
     "start_time": "2025-01-09T01:52:51.369019",
     "status": "completed"
    },
    "tags": []
   },
   "outputs": [],
   "source": [
    "Image.open(f\"runs/detect/train/val_batch0_pred.jpg\")"
   ]
  },
  {
   "cell_type": "markdown",
   "id": "1f8521f3",
   "metadata": {
    "papermill": {
     "duration": 0.298693,
     "end_time": "2025-01-09T01:52:52.560067",
     "exception": false,
     "start_time": "2025-01-09T01:52:52.261374",
     "status": "completed"
    },
    "tags": []
   },
   "source": [
    "<div style='background-color: #fff7f7; border: 2px solid '>\n",
    "    <font size=\"+2\" color=\"blue\" ><b>✅6. Inference with Test Dataset✅</b></font>\n",
    "</div>\n"
   ]
  },
  {
   "cell_type": "code",
   "execution_count": 1,
   "id": "36b6245f",
   "metadata": {},
   "outputs": [],
   "source": [
    "# use only if you want to load the model\n",
    "# from ultralytics import YOLO\n",
    "# model = YOLO(\"/home/nic/workspace/Mlops/MHD/runs/detect/train/weights/best.pt\") "
   ]
  },
  {
   "cell_type": "code",
   "execution_count": 14,
   "id": "8ea33b8f",
   "metadata": {
    "execution": {
     "iopub.execute_input": "2025-01-09T01:52:53.159964Z",
     "iopub.status.busy": "2025-01-09T01:52:53.159647Z",
     "iopub.status.idle": "2025-01-09T01:52:57.743947Z",
     "shell.execute_reply": "2025-01-09T01:52:57.743190Z"
    },
    "papermill": {
     "duration": 4.885956,
     "end_time": "2025-01-09T01:52:57.745517",
     "exception": false,
     "start_time": "2025-01-09T01:52:52.859561",
     "status": "completed"
    },
    "tags": []
   },
   "outputs": [],
   "source": [
    "inference_results = model(\"KIIT-MiTA/test/images\", device=0, verbose=False)"
   ]
  },
  {
   "cell_type": "code",
   "execution_count": null,
   "id": "f2b0eb35",
   "metadata": {
    "execution": {
     "iopub.execute_input": "2025-01-09T01:52:58.354158Z",
     "iopub.status.busy": "2025-01-09T01:52:58.353656Z",
     "iopub.status.idle": "2025-01-09T01:53:00.990964Z",
     "shell.execute_reply": "2025-01-09T01:53:00.990096Z"
    },
    "papermill": {
     "duration": 2.956465,
     "end_time": "2025-01-09T01:53:01.008012",
     "exception": false,
     "start_time": "2025-01-09T01:52:58.051547",
     "status": "completed"
    },
    "tags": []
   },
   "outputs": [],
   "source": [
    "def inference_vis(res, n_ims, rows):\n",
    "    cols = n_ims // rows\n",
    "    plt.figure(figsize=(20, 10))\n",
    "    for idx, r in enumerate(res):\n",
    "        if idx == n_ims:\n",
    "            break\n",
    "        plt.subplot(rows, cols, idx + 1)\n",
    "        or_im_rgb = np.array(Image.open(r.path).convert(\"RGB\"))\n",
    "        if idx == n_ims:\n",
    "            break\n",
    "        for i in r:\n",
    "            for bbox in i.boxes:\n",
    "                box = bbox.xyxy[0]\n",
    "                x1, y1, x2, y2 = box\n",
    "                coord1, coord2 = (int(x1), int(y1)), (int(x2), int(y2))\n",
    "                cv2.rectangle(or_im_rgb, coord1, coord2, color=(255, 0, 0), thickness=2)\n",
    "        plt.imshow(or_im_rgb)\n",
    "        plt.title(f\"Image#{idx + 1}\")\n",
    "        plt.axis(\"off\")\n",
    "\n",
    "\n",
    "inference_vis(res=inference_results, n_ims=15, rows=3)"
   ]
  },
  {
   "cell_type": "code",
   "execution_count": null,
   "id": "e04f351e",
   "metadata": {},
   "outputs": [],
   "source": [
    "# Evaluate the model's performance on the validation set\n",
    "results = model.val()"
   ]
  },
  {
   "cell_type": "code",
   "execution_count": null,
   "id": "c5c8db6e",
   "metadata": {},
   "outputs": [],
   "source": [
    "# Export the model to ONNX format\n",
    "model = YOLO(\"/home/nic/workspace/Mlops/MHD/runs/detect/train/weights/best.pt\")\n",
    "success = model.export(format=\"onnx\", dynamic=True)"
   ]
  },
  {
   "cell_type": "code",
   "execution_count": null,
   "id": "3f81cec0",
   "metadata": {},
   "outputs": [],
   "source": [
    "# for tensorrt\n",
    "# from ultralytics import YOLO\n",
    "\n",
    "model = YOLO(\"/home/nic/workspace/Mlops/MHD/runs/detect/train/weights/best.pt\")\n",
    "model.export(format=\"onnx\", device=0)"
   ]
  },
  {
   "cell_type": "code",
   "execution_count": null,
   "id": "b522288b",
   "metadata": {},
   "outputs": [],
   "source": [
    "    "
   ]
  }
 ],
 "metadata": {
  "kaggle": {
   "accelerator": "nvidiaTeslaT4",
   "dataSources": [
    {
     "datasetId": 6439140,
     "sourceId": 10393221,
     "sourceType": "datasetVersion"
    }
   ],
   "dockerImageVersionId": 30823,
   "isGpuEnabled": true,
   "isInternetEnabled": true,
   "language": "python",
   "sourceType": "notebook"
  },
  "kernelspec": {
   "display_name": "mlops_A_2",
   "language": "python",
   "name": "python3"
  },
  "language_info": {
   "codemirror_mode": {
    "name": "ipython",
    "version": 3
   },
   "file_extension": ".py",
   "mimetype": "text/x-python",
   "name": "python",
   "nbconvert_exporter": "python",
   "pygments_lexer": "ipython3",
   "version": "3.9.21"
  },
  "papermill": {
   "default_parameters": {},
   "duration": 244.192942,
   "end_time": "2025-01-09T01:53:03.372697",
   "environment_variables": {},
   "exception": null,
   "input_path": "__notebook__.ipynb",
   "output_path": "__notebook__.ipynb",
   "parameters": {},
   "start_time": "2025-01-09T01:48:59.179755",
   "version": "2.6.0"
  }
 },
 "nbformat": 4,
 "nbformat_minor": 5
}
